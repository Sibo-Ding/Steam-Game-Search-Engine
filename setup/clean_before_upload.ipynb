{
 "cells": [
  {
   "cell_type": "code",
   "execution_count": null,
   "metadata": {
    "id": "ppK8OMVmuKnq"
   },
   "outputs": [],
   "source": [
    "import numpy as np\n",
    "np.__version__"
   ]
  },
  {
   "cell_type": "code",
   "execution_count": null,
   "metadata": {
    "id": "TfYEaxGovKup"
   },
   "outputs": [],
   "source": [
    "from google.colab import drive\n",
    "drive.mount('/content/drive')"
   ]
  },
  {
   "cell_type": "markdown",
   "metadata": {
    "id": "WW-we9H9955L"
   },
   "source": [
    "## Save steam_data.csv under \"data\" folder"
   ]
  },
  {
   "cell_type": "markdown",
   "metadata": {
    "id": "Do5DnnbY-UgP"
   },
   "source": [
    "### Load environment"
   ]
  },
  {
   "cell_type": "code",
   "execution_count": null,
   "metadata": {
    "id": "nnMHRjH7vmXU"
   },
   "outputs": [],
   "source": [
    "import os\n",
    "from tqdm import tqdm\n",
    "import pandas as pd\n",
    "from sentence_transformers import SentenceTransformer\n",
    "\n",
    "os.chdir('drive/My Drive/data')\n",
    "tqdm.pandas()  # Progress bar"
   ]
  },
  {
   "cell_type": "markdown",
   "metadata": {
    "id": "gAHFdRsG-XzJ"
   },
   "source": [
    "### Clean data"
   ]
  },
  {
   "cell_type": "code",
   "execution_count": null,
   "metadata": {
    "id": "_n5rNnH2v0jT"
   },
   "outputs": [],
   "source": [
    "# Read csv + Drop NA Title\n",
    "# Clean price: Replace \"Free\" with \"0\" + Remove \"$\" and \",\" + Convert to float\n",
    "# Clean date: coerce: If a date is not in \"Jan 1, 2000\" format, set it to NaT/NaN\n",
    "# Combine Title, Description, Tags, and Features to one column \"search_text\"\n",
    "df = (\n",
    "    pd.read_csv(\"steam_data.csv\")\n",
    "    .dropna(subset=[\"Title\"])\n",
    "    .assign(\n",
    "        original_price=lambda df_: df_[\"Original Price\"]\n",
    "            .replace(\"Free\", \"0\")\n",
    "            .str.replace(r\"[$,]\", \"\", regex=True)\n",
    "            .astype(float),\n",
    "        release_date=lambda df_: pd.to_datetime(\n",
    "            df_[\"Release Date\"], format=\"%d %b, %Y\", errors=\"coerce\"\n",
    "        ),\n",
    "        search_text=lambda df_: df_[\"Title\"]\n",
    "            + \" \" + df_[\"Game Description\"].fillna(\"\")\n",
    "            + \" \" + df_[\"Popular Tags\"].fillna(\"\")\n",
    "            + \" \" + df_[\"Game Features\"].fillna(\"\"),\n",
    "    )\n",
    ")"
   ]
  },
  {
   "cell_type": "markdown",
   "metadata": {
    "id": "oWqHmyuG-eu4"
   },
   "source": [
    "### Sentence transformer"
   ]
  },
  {
   "cell_type": "code",
   "execution_count": null,
   "metadata": {
    "id": "PIZHGhug8I_9"
   },
   "outputs": [],
   "source": [
    "# Initialize Sentence Transformer model\n",
    "model = SentenceTransformer(\"paraphrase-multilingual-MiniLM-L12-v2\")\n",
    "# Other more computationally complex models\n",
    "# model = SentenceTransformer(\"distiluse-base-multilingual-cased-v1\")\n",
    "# model = SentenceTransformer(\"xlm-r-bert-base-nli-stsb-mean-tokens\")\n",
    "# model = SentenceTransformer(\"LaBSE\")\n",
    "\n",
    "# Add embedding column with progress bar\n",
    "df[\"embedding\"] = df[\"search_text\"].progress_apply(\n",
    "    lambda text: model.encode(text).tolist()\n",
    ")"
   ]
  },
  {
   "cell_type": "markdown",
   "metadata": {
    "id": "SZ1y9LNz-pqR"
   },
   "source": [
    "### Select columns + Write csv"
   ]
  },
  {
   "cell_type": "code",
   "execution_count": null,
   "metadata": {
    "id": "H7VCLXUV3e1F"
   },
   "outputs": [],
   "source": [
    "# df[\n",
    "#     [\n",
    "#         \"Title\",\n",
    "#         \"original_price\",\n",
    "#         \"release_date\",\n",
    "#         \"Game Description\",\n",
    "#         \"All Reviews Summary\",\n",
    "#         \"Developer\",\n",
    "#         \"Supported Languages\",\n",
    "#         \"Popular Tags\",\n",
    "#         \"Game Features\",\n",
    "#         \"embedding\"\n",
    "#     ]\n",
    "# ]"
   ]
  }
 ],
 "metadata": {
  "colab": {
   "authorship_tag": "ABX9TyPgAwRnf5cdoAY9u4BuK9we",
   "provenance": []
  },
  "kernelspec": {
   "display_name": "Python 3",
   "name": "python3"
  },
  "language_info": {
   "name": "python"
  }
 },
 "nbformat": 4,
 "nbformat_minor": 0
}
