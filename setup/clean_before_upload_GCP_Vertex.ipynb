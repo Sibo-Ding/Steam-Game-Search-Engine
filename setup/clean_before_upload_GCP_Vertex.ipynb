{
  "cells": [
    {
      "cell_type": "code",
      "id": "ZS5HRqwsfn42GOYeTo5CtLgN",
      "metadata": {
        "tags": [],
        "id": "ZS5HRqwsfn42GOYeTo5CtLgN",
        "outputId": "d9ebfb49-8208-477f-d0fe-0a5811e77e15",
        "colab": {
          "base_uri": "https://localhost:8080/",
          "height": 35
        }
      },
      "source": [
        "import numpy as np\n",
        "np.__version__"
      ],
      "execution_count": null,
      "outputs": [
        {
          "output_type": "execute_result",
          "data": {
            "text/plain": [
              "'1.26.4'"
            ],
            "application/vnd.google.colaboratory.intrinsic+json": {
              "type": "string"
            }
          },
          "metadata": {},
          "execution_count": 1
        }
      ]
    },
    {
      "cell_type": "markdown",
      "source": [
        "### Load environment\n",
        "Save steam_data.csv under \"BUCKET_NAME/data\" folder, change BUCKET_NAME in the following block"
      ],
      "metadata": {
        "id": "AvWQ-GV8XVxd"
      },
      "id": "AvWQ-GV8XVxd"
    },
    {
      "cell_type": "code",
      "source": [
        "from google.cloud import storage\n",
        "\n",
        "# Set your GCP bucket name and file path\n",
        "BUCKET_NAME = \"eco395m-2024\"\n",
        "IN_BLOB_NAME = \"data/steam_data.csv\"\n",
        "OUT_BLOB_NAME = \"data/steam_clean_no_header.csv\"\n",
        "\n",
        "# Initialize a GCP storage client\n",
        "client = storage.Client()\n",
        "\n",
        "# Get the bucket\n",
        "bucket = client.bucket(BUCKET_NAME)\n",
        "\n",
        "# Read csv from the bucket\n",
        "in_blob = bucket.blob(IN_BLOB_NAME)\n",
        "# Download the csv content as a string\n",
        "content = in_blob.download_as_text()"
      ],
      "metadata": {
        "id": "No4YnRNZVn3J"
      },
      "id": "No4YnRNZVn3J",
      "execution_count": null,
      "outputs": []
    },
    {
      "cell_type": "code",
      "source": [
        "import io\n",
        "from tqdm import tqdm\n",
        "import pandas as pd\n",
        "from sentence_transformers import SentenceTransformer\n",
        "\n",
        "tqdm.pandas()  # Progress bar\n",
        "\n",
        "IN_PATH = io.StringIO(content)\n",
        "csv_buffer = io.StringIO()  # Output"
      ],
      "metadata": {
        "colab": {
          "base_uri": "https://localhost:8080/"
        },
        "id": "Ed0-opAyWzYT",
        "outputId": "af238aaa-ce06-4b69-efa9-3c4bd7829aa7"
      },
      "id": "Ed0-opAyWzYT",
      "execution_count": null,
      "outputs": [
        {
          "output_type": "stream",
          "name": "stderr",
          "text": [
            "/usr/local/lib/python3.10/dist-packages/sentence_transformers/cross_encoder/CrossEncoder.py:13: TqdmExperimentalWarning: Using `tqdm.autonotebook.tqdm` in notebook mode. Use `tqdm.tqdm` instead to force console mode (e.g. in jupyter console)\n",
            "  from tqdm.autonotebook import tqdm, trange\n"
          ]
        }
      ]
    },
    {
      "cell_type": "markdown",
      "source": [
        "### Clean data"
      ],
      "metadata": {
        "id": "hunrPU-nXxRJ"
      },
      "id": "hunrPU-nXxRJ"
    },
    {
      "cell_type": "code",
      "source": [
        "# Read csv + Drop NA Title\n",
        "# Clean price: Replace \"Free\" with \"0\" + Remove \"$\" and \",\" + Convert to float\n",
        "# Clean date: coerce: If a date is not in \"Jan 1, 2000\" format, set it to NaT/NaN\n",
        "# Combine Title, Description, Tags, and Features to one column \"search_text\"\n",
        "df = (\n",
        "    pd.read_csv(IN_PATH)\n",
        "    .dropna(subset=[\"Title\"])\n",
        "    .assign(\n",
        "        original_price=lambda df_: df_[\"Original Price\"]\n",
        "            .replace(\"Free\", \"0\")\n",
        "            .str.replace(r\"[$,]\", \"\", regex=True)\n",
        "            .astype(float),\n",
        "        release_date=lambda df_: pd.to_datetime(\n",
        "            df_[\"Release Date\"], format=\"%d %b, %Y\", errors=\"coerce\"\n",
        "        ),\n",
        "        search_text=lambda df_: df_[\"Title\"]\n",
        "            + \" \" + df_[\"Game Description\"].fillna(\"\")\n",
        "            + \" \" + df_[\"Popular Tags\"].fillna(\"\")\n",
        "            + \" \" + df_[\"Game Features\"].fillna(\"\"),\n",
        "    )\n",
        ")"
      ],
      "metadata": {
        "id": "frRBLyTGXBYI"
      },
      "id": "frRBLyTGXBYI",
      "execution_count": null,
      "outputs": []
    },
    {
      "cell_type": "markdown",
      "source": [
        "### Sentence transformer"
      ],
      "metadata": {
        "id": "fNyUEyC_Zytj"
      },
      "id": "fNyUEyC_Zytj"
    },
    {
      "cell_type": "code",
      "source": [
        "# Initialize Sentence Transformer model\n",
        "model = SentenceTransformer(\"paraphrase-multilingual-MiniLM-L12-v2\")\n",
        "# Other more computationally complex models\n",
        "# model = SentenceTransformer(\"distiluse-base-multilingual-cased-v1\")\n",
        "# model = SentenceTransformer(\"xlm-r-bert-base-nli-stsb-mean-tokens\")\n",
        "# model = SentenceTransformer(\"LaBSE\")\n",
        "\n",
        "# Add embedding column with progress bar\n",
        "df[\"embedding\"] = df[\"search_text\"].progress_apply(\n",
        "    lambda text: model.encode(text).tolist()\n",
        ")"
      ],
      "metadata": {
        "colab": {
          "base_uri": "https://localhost:8080/"
        },
        "id": "gEfUeilzZyWy",
        "outputId": "4d8111fa-1e07-43cc-ff1f-300749773776"
      },
      "id": "gEfUeilzZyWy",
      "execution_count": null,
      "outputs": [
        {
          "output_type": "stream",
          "name": "stderr",
          "text": [
            "100%|██████████| 71699/71699 [1:33:48<00:00, 12.74it/s]\n"
          ]
        }
      ]
    },
    {
      "cell_type": "markdown",
      "source": [
        "### Select columns + Write csv"
      ],
      "metadata": {
        "id": "sUzyvLmfaQYu"
      },
      "id": "sUzyvLmfaQYu"
    },
    {
      "cell_type": "code",
      "source": [
        "df[\n",
        "    [\n",
        "        \"Title\",\n",
        "        \"original_price\",\n",
        "        \"release_date\",\n",
        "        \"Game Description\",\n",
        "        \"All Reviews Summary\",\n",
        "        \"Developer\",\n",
        "        \"Supported Languages\",\n",
        "        \"Popular Tags\",\n",
        "        \"Game Features\",\n",
        "        \"embedding\"\n",
        "    ]\n",
        "].to_csv(csv_buffer, header=False, index=False)"
      ],
      "metadata": {
        "id": "tImTXJlEaUAA"
      },
      "id": "tImTXJlEaUAA",
      "execution_count": null,
      "outputs": []
    },
    {
      "cell_type": "markdown",
      "source": [
        "### Upload the modified csv back to the bucket"
      ],
      "metadata": {
        "id": "oSPUSG2Z4Il0"
      },
      "id": "oSPUSG2Z4Il0"
    },
    {
      "cell_type": "code",
      "source": [
        "out_blob = bucket.blob(OUT_BLOB_NAME)\n",
        "out_blob.upload_from_string(csv_buffer.getvalue(), content_type=\"text/csv\")"
      ],
      "metadata": {
        "id": "9ymY4pTpdpYS"
      },
      "id": "9ymY4pTpdpYS",
      "execution_count": null,
      "outputs": []
    }
  ],
  "metadata": {
    "kernelspec": {
      "display_name": "Python 3",
      "language": "python",
      "name": "python3"
    },
    "language_info": {
      "codemirror_mode": {
        "name": "ipython",
        "version": 3
      },
      "file_extension": ".py",
      "mimetype": "text/x-python",
      "name": "python",
      "nbconvert_exporter": "python",
      "pygments_lexer": "ipython3",
      "version": "3.10.10"
    },
    "colab": {
      "provenance": [],
      "name": "clean_before_upload_GCP_Vertex"
    }
  },
  "nbformat": 4,
  "nbformat_minor": 5
}