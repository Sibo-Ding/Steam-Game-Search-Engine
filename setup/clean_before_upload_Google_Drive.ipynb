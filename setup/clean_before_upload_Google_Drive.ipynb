{
  "nbformat": 4,
  "nbformat_minor": 0,
  "metadata": {
    "colab": {
      "provenance": []
    },
    "kernelspec": {
      "name": "python3",
      "display_name": "Python 3"
    },
    "language_info": {
      "name": "python"
    }
  },
  "cells": [
    {
      "cell_type": "code",
      "execution_count": null,
      "metadata": {
        "id": "ppK8OMVmuKnq"
      },
      "outputs": [],
      "source": [
        "import numpy as np\n",
        "np.__version__"
      ]
    },
    {
      "cell_type": "markdown",
      "source": [
        "### Load environment\n",
        "Save steam_data.csv under \"My Drive/data\" folder"
      ],
      "metadata": {
        "id": "Do5DnnbY-UgP"
      }
    },
    {
      "cell_type": "code",
      "source": [
        "# Access Google Drive\n",
        "from google.colab import drive\n",
        "drive.mount(\"/content/drive\")\n",
        "\n",
        "IN_PATH = \"drive/My Drive/data/steam_data.csv\"\n",
        "OUT_PATH = \"drive/My Drive/data/steam_clean_no_header.csv\""
      ],
      "metadata": {
        "id": "TfYEaxGovKup"
      },
      "execution_count": null,
      "outputs": []
    },
    {
      "cell_type": "code",
      "source": [
        "from tqdm import tqdm\n",
        "import pandas as pd\n",
        "from sentence_transformers import SentenceTransformer"
      ],
      "metadata": {
        "id": "nnMHRjH7vmXU"
      },
      "execution_count": null,
      "outputs": []
    },
    {
      "cell_type": "markdown",
      "source": [
        "### Clean data"
      ],
      "metadata": {
        "id": "gAHFdRsG-XzJ"
      }
    },
    {
      "cell_type": "code",
      "source": [
        "tqdm.pandas()  # Progress bar\n",
        "\n",
        "# Read csv + Drop NA Title\n",
        "# Clean price: Replace \"Free\" with \"0\" + Remove \"$\" and \",\" + Convert to float\n",
        "# Clean date: coerce: If a date is not in \"Jan 1, 2000\" format, set it to NaT/NaN\n",
        "# Combine Title, Description, Tags, and Features to one column \"search_text\"\n",
        "# Remane + Select columns\n",
        "df = (\n",
        "    pd.read_csv(IN_PATH)\n",
        "    .dropna(subset=[\"Title\"])\n",
        "    .assign(\n",
        "        original_price=lambda df_: df_[\"Original Price\"]\n",
        "            .replace(\"Free\", \"0\")\n",
        "            .str.replace(r\"[$,]\", \"\", regex=True)\n",
        "            .astype(float),\n",
        "        release_date=lambda df_: pd.to_datetime(\n",
        "            df_[\"Release Date\"], format=\"%d %b, %Y\", errors=\"coerce\"\n",
        "        ),\n",
        "        search_text=lambda df_: df_[\"Title\"]\n",
        "            + \" \" + df_[\"Game Description\"].fillna(\"\")\n",
        "            + \" \" + df_[\"Popular Tags\"].fillna(\"\")\n",
        "            + \" \" + df_[\"Game Features\"].fillna(\"\"),\n",
        "    )\n",
        "    .rename(\n",
        "        columns={\n",
        "            \"Title\": \"name\",\n",
        "            \"Game Description\": \"description\",\n",
        "            \"All Reviews Summary\": \"all_reviews_summary\",\n",
        "            \"Developer\": \"developer\",\n",
        "            \"Supported Languages\": \"supported_languages\",\n",
        "            \"Popular Tags\": \"tags\",\n",
        "            \"Game Features\": \"features\",\n",
        "        }\n",
        "    )\n",
        ")[\n",
        "    [\n",
        "        \"name\",\n",
        "        \"original_price\",\n",
        "        \"release_date\",\n",
        "        \"description\",\n",
        "        \"all_reviews_summary\",\n",
        "        \"developer\",\n",
        "        \"supported_languages\",\n",
        "        \"tags\",\n",
        "        \"features\",\n",
        "        \"search_text\",\n",
        "    ]\n",
        "]"
      ],
      "metadata": {
        "id": "_n5rNnH2v0jT"
      },
      "execution_count": null,
      "outputs": []
    },
    {
      "cell_type": "markdown",
      "source": [
        "### Sentence transformer"
      ],
      "metadata": {
        "id": "oWqHmyuG-eu4"
      }
    },
    {
      "cell_type": "code",
      "source": [
        "# Initialize Sentence Transformer model\n",
        "model = SentenceTransformer(\"paraphrase-multilingual-MiniLM-L12-v2\")\n",
        "# Other more computationally complex models\n",
        "# model = SentenceTransformer(\"distiluse-base-multilingual-cased-v1\")\n",
        "# model = SentenceTransformer(\"xlm-r-bert-base-nli-stsb-mean-tokens\")\n",
        "# model = SentenceTransformer(\"LaBSE\")\n",
        "\n",
        "# Add embedding column with progress bar\n",
        "df[\"embedding\"] = df[\"search_text\"].progress_apply(\n",
        "    lambda text: model.encode(text).tolist()\n",
        ")\n",
        "\n",
        "df = df.drop(columns=[\"search_text\"])"
      ],
      "metadata": {
        "id": "PIZHGhug8I_9"
      },
      "execution_count": null,
      "outputs": []
    },
    {
      "cell_type": "markdown",
      "source": [
        "### Write csv"
      ],
      "metadata": {
        "id": "SZ1y9LNz-pqR"
      }
    },
    {
      "cell_type": "code",
      "source": [
        "df.to_csv(OUT_PATH, header=False, index=False)"
      ],
      "metadata": {
        "id": "H7VCLXUV3e1F"
      },
      "execution_count": null,
      "outputs": []
    }
  ]
}