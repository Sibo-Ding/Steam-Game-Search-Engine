{
 "cells": [
  {
   "cell_type": "markdown",
   "id": "AvWQ-GV8XVxd",
   "metadata": {
    "id": "AvWQ-GV8XVxd"
   },
   "source": [
    "### Load environment\n",
    "Save steam_data.csv under \"BUCKET_NAME/data\" folder, change BUCKET_NAME in the following block"
   ]
  },
  {
   "cell_type": "code",
   "execution_count": null,
   "id": "No4YnRNZVn3J",
   "metadata": {
    "id": "No4YnRNZVn3J"
   },
   "outputs": [],
   "source": [
    "from google.cloud import storage\n",
    "import io\n",
    "\n",
    "# Set your GCP bucket name and file path\n",
    "BUCKET_NAME = \"eco395m-2024\"\n",
    "IN_BLOB_NAME = \"data/steam_data.csv\"\n",
    "OUT_BLOB_NAME = \"data/steam_clean_no_header.csv\"\n",
    "\n",
    "# Initialize a GCP storage client\n",
    "client = storage.Client()\n",
    "\n",
    "# Get the bucket\n",
    "bucket = client.bucket(BUCKET_NAME)\n",
    "\n",
    "# Read csv from the bucket\n",
    "in_blob = bucket.blob(IN_BLOB_NAME)\n",
    "# Download the csv content as a string\n",
    "content = in_blob.download_as_text()\n",
    "\n",
    "IN_PATH = io.StringIO(content)"
   ]
  },
  {
   "cell_type": "code",
   "execution_count": null,
   "id": "Ed0-opAyWzYT",
   "metadata": {
    "colab": {
     "base_uri": "https://localhost:8080/"
    },
    "executionInfo": {
     "elapsed": 9609,
     "status": "ok",
     "timestamp": 1732642293388,
     "user": {
      "displayName": "",
      "userId": ""
     },
     "user_tz": 360
    },
    "id": "Ed0-opAyWzYT",
    "outputId": "af238aaa-ce06-4b69-efa9-3c4bd7829aa7"
   },
   "outputs": [
    {
     "name": "stderr",
     "output_type": "stream",
     "text": [
      "/usr/local/lib/python3.10/dist-packages/sentence_transformers/cross_encoder/CrossEncoder.py:13: TqdmExperimentalWarning: Using `tqdm.autonotebook.tqdm` in notebook mode. Use `tqdm.tqdm` instead to force console mode (e.g. in jupyter console)\n",
      "  from tqdm.autonotebook import tqdm, trange\n"
     ]
    }
   ],
   "source": [
    "from tqdm import tqdm\n",
    "import pandas as pd\n",
    "from sentence_transformers import SentenceTransformer"
   ]
  },
  {
   "cell_type": "markdown",
   "id": "hunrPU-nXxRJ",
   "metadata": {
    "id": "hunrPU-nXxRJ"
   },
   "source": [
    "### Clean data"
   ]
  },
  {
   "cell_type": "code",
   "execution_count": null,
   "id": "frRBLyTGXBYI",
   "metadata": {
    "id": "frRBLyTGXBYI"
   },
   "outputs": [],
   "source": [
    "\"\"\"\n",
    "Read csv + Drop NA Title\n",
    "Clean price: Replace \"Free\" with \"0\" + Remove \"$\" and \",\" + Convert to float\n",
    "Clean date: coerce: If a date is not in \"Jan 1, 2000\" format, set it to NaT/NaN\n",
    "Combine Title, Description, Tags, and Features to one column \"search_text\"\n",
    "Remane + Select columns\n",
    "\"\"\"\n",
    "df = (\n",
    "    pd.read_csv(IN_PATH)\n",
    "    .dropna(subset=[\"Title\"])\n",
    "    .assign(\n",
    "        original_price=lambda df_: df_[\"Original Price\"]\n",
    "            .replace(\"Free\", \"0\")\n",
    "            .str.replace(r\"[$,]\", \"\", regex=True)\n",
    "            .astype(float),\n",
    "        release_date=lambda df_: pd.to_datetime(\n",
    "            df_[\"Release Date\"], format=\"%d %b, %Y\", errors=\"coerce\"\n",
    "        ),\n",
    "        search_text=lambda df_: df_[\"Title\"]\n",
    "            + \" \" + df_[\"Game Description\"].fillna(\"\")\n",
    "            + \" \" + df_[\"Popular Tags\"].fillna(\"\")\n",
    "            + \" \" + df_[\"Game Features\"].fillna(\"\"),\n",
    "    )\n",
    "    .rename(\n",
    "        columns={\n",
    "            \"Title\": \"name\",\n",
    "            \"Game Description\": \"description\",\n",
    "            \"All Reviews Summary\": \"all_reviews_summary\",\n",
    "            \"Developer\": \"developer\",\n",
    "            \"Supported Languages\": \"supported_languages\",\n",
    "            \"Popular Tags\": \"tags\",\n",
    "            \"Game Features\": \"features\",\n",
    "        }\n",
    "    )\n",
    ")[\n",
    "    [\n",
    "        \"name\",\n",
    "        \"original_price\",\n",
    "        \"release_date\",\n",
    "        \"description\",\n",
    "        \"all_reviews_summary\",\n",
    "        \"developer\",\n",
    "        \"supported_languages\",\n",
    "        \"tags\",\n",
    "        \"features\",\n",
    "        \"search_text\",\n",
    "    ]\n",
    "]"
   ]
  },
  {
   "cell_type": "markdown",
   "id": "fNyUEyC_Zytj",
   "metadata": {
    "id": "fNyUEyC_Zytj"
   },
   "source": [
    "### Vector embedding"
   ]
  },
  {
   "cell_type": "code",
   "execution_count": null,
   "id": "gEfUeilzZyWy",
   "metadata": {
    "colab": {
     "base_uri": "https://localhost:8080/"
    },
    "executionInfo": {
     "elapsed": 5631222,
     "status": "ok",
     "timestamp": 1732647926256,
     "user": {
      "displayName": "",
      "userId": ""
     },
     "user_tz": 360
    },
    "id": "gEfUeilzZyWy",
    "outputId": "4d8111fa-1e07-43cc-ff1f-300749773776"
   },
   "outputs": [
    {
     "name": "stderr",
     "output_type": "stream",
     "text": [
      "100%|██████████| 71699/71699 [1:33:48<00:00, 12.74it/s]\n"
     ]
    }
   ],
   "source": [
    "tqdm.pandas()  # Progress bar\n",
    "\n",
    "# Initialize Sentence Transformer model\n",
    "model = SentenceTransformer(\"paraphrase-multilingual-MiniLM-L12-v2\")\n",
    "# Other more computationally complex models\n",
    "# model = SentenceTransformer(\"distiluse-base-multilingual-cased-v1\")\n",
    "# model = SentenceTransformer(\"xlm-r-bert-base-nli-stsb-mean-tokens\")\n",
    "# model = SentenceTransformer(\"LaBSE\")\n",
    "\n",
    "# Add embedding column with progress bar\n",
    "df[\"embedding\"] = df[\"search_text\"].progress_apply(\n",
    "    lambda text: model.encode(text).tolist()\n",
    ")\n",
    "\n",
    "df = df.drop(columns=[\"search_text\"])"
   ]
  },
  {
   "cell_type": "markdown",
   "id": "sUzyvLmfaQYu",
   "metadata": {
    "id": "sUzyvLmfaQYu"
   },
   "source": [
    "### Write csv"
   ]
  },
  {
   "cell_type": "code",
   "execution_count": null,
   "id": "tImTXJlEaUAA",
   "metadata": {
    "id": "tImTXJlEaUAA"
   },
   "outputs": [],
   "source": [
    "df.to_csv(csv_buffer, header=False, index=False)"
   ]
  },
  {
   "cell_type": "markdown",
   "id": "oSPUSG2Z4Il0",
   "metadata": {
    "id": "oSPUSG2Z4Il0"
   },
   "source": [
    "### Upload the modified csv back to the bucket"
   ]
  },
  {
   "cell_type": "code",
   "execution_count": null,
   "id": "9ymY4pTpdpYS",
   "metadata": {
    "id": "9ymY4pTpdpYS"
   },
   "outputs": [],
   "source": [
    "csv_buffer = io.StringIO()\n",
    "out_blob = bucket.blob(OUT_BLOB_NAME)\n",
    "out_blob.upload_from_string(csv_buffer.getvalue(), content_type=\"text/csv\")"
   ]
  }
 ],
 "metadata": {
  "colab": {
   "name": "clean_embedding_GCP_Vertex",
   "provenance": []
  },
  "kernelspec": {
   "display_name": "Python 3",
   "language": "python",
   "name": "python3"
  },
  "language_info": {
   "codemirror_mode": {
    "name": "ipython",
    "version": 3
   },
   "file_extension": ".py",
   "mimetype": "text/x-python",
   "name": "python",
   "nbconvert_exporter": "python",
   "pygments_lexer": "ipython3",
   "version": "3.10.10"
  }
 },
 "nbformat": 4,
 "nbformat_minor": 5
}
